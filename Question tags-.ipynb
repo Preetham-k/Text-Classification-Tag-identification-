{
 "cells": [
  {
   "cell_type": "code",
   "execution_count": 1,
   "metadata": {},
   "outputs": [],
   "source": [
    "#Importing Required libraries\n",
    "import pandas as pd\n",
    "import datetime\n",
    "import numpy as np\n",
    "import re\n"
   ]
  },
  {
   "cell_type": "code",
   "execution_count": 2,
   "metadata": {},
   "outputs": [
    {
     "data": {
      "text/html": [
       "<div>\n",
       "<style scoped>\n",
       "    .dataframe tbody tr th:only-of-type {\n",
       "        vertical-align: middle;\n",
       "    }\n",
       "\n",
       "    .dataframe tbody tr th {\n",
       "        vertical-align: top;\n",
       "    }\n",
       "\n",
       "    .dataframe thead th {\n",
       "        text-align: right;\n",
       "    }\n",
       "</style>\n",
       "<table border=\"1\" class=\"dataframe\">\n",
       "  <thead>\n",
       "    <tr style=\"text-align: right;\">\n",
       "      <th></th>\n",
       "      <th>Id</th>\n",
       "      <th>OwnerUserId</th>\n",
       "      <th>CreationDate</th>\n",
       "      <th>ClosedDate</th>\n",
       "      <th>Score</th>\n",
       "      <th>Title</th>\n",
       "      <th>Body</th>\n",
       "    </tr>\n",
       "  </thead>\n",
       "  <tbody>\n",
       "    <tr>\n",
       "      <th>0</th>\n",
       "      <td>80</td>\n",
       "      <td>26.0</td>\n",
       "      <td>2008-08-01T13:57:07Z</td>\n",
       "      <td>NaN</td>\n",
       "      <td>26</td>\n",
       "      <td>SQLStatement.execute() - multiple queries in o...</td>\n",
       "      <td>&lt;p&gt;I've written a database generation script i...</td>\n",
       "    </tr>\n",
       "    <tr>\n",
       "      <th>1</th>\n",
       "      <td>90</td>\n",
       "      <td>58.0</td>\n",
       "      <td>2008-08-01T14:41:24Z</td>\n",
       "      <td>2012-12-26T03:45:49Z</td>\n",
       "      <td>144</td>\n",
       "      <td>Good branching and merging tutorials for Torto...</td>\n",
       "      <td>&lt;p&gt;Are there any really good tutorials explain...</td>\n",
       "    </tr>\n",
       "    <tr>\n",
       "      <th>2</th>\n",
       "      <td>120</td>\n",
       "      <td>83.0</td>\n",
       "      <td>2008-08-01T15:50:08Z</td>\n",
       "      <td>NaN</td>\n",
       "      <td>21</td>\n",
       "      <td>ASP.NET Site Maps</td>\n",
       "      <td>&lt;p&gt;Has anyone got experience creating &lt;strong&gt;...</td>\n",
       "    </tr>\n",
       "    <tr>\n",
       "      <th>3</th>\n",
       "      <td>180</td>\n",
       "      <td>2089740.0</td>\n",
       "      <td>2008-08-01T18:42:19Z</td>\n",
       "      <td>NaN</td>\n",
       "      <td>53</td>\n",
       "      <td>Function for creating color wheels</td>\n",
       "      <td>&lt;p&gt;This is something I've pseudo-solved many t...</td>\n",
       "    </tr>\n",
       "    <tr>\n",
       "      <th>4</th>\n",
       "      <td>260</td>\n",
       "      <td>91.0</td>\n",
       "      <td>2008-08-01T23:22:08Z</td>\n",
       "      <td>NaN</td>\n",
       "      <td>49</td>\n",
       "      <td>Adding scripting functionality to .NET applica...</td>\n",
       "      <td>&lt;p&gt;I have a little game written in C#. It uses...</td>\n",
       "    </tr>\n",
       "  </tbody>\n",
       "</table>\n",
       "</div>"
      ],
      "text/plain": [
       "    Id  OwnerUserId          CreationDate            ClosedDate  Score  \\\n",
       "0   80         26.0  2008-08-01T13:57:07Z                   NaN     26   \n",
       "1   90         58.0  2008-08-01T14:41:24Z  2012-12-26T03:45:49Z    144   \n",
       "2  120         83.0  2008-08-01T15:50:08Z                   NaN     21   \n",
       "3  180    2089740.0  2008-08-01T18:42:19Z                   NaN     53   \n",
       "4  260         91.0  2008-08-01T23:22:08Z                   NaN     49   \n",
       "\n",
       "                                               Title  \\\n",
       "0  SQLStatement.execute() - multiple queries in o...   \n",
       "1  Good branching and merging tutorials for Torto...   \n",
       "2                                  ASP.NET Site Maps   \n",
       "3                 Function for creating color wheels   \n",
       "4  Adding scripting functionality to .NET applica...   \n",
       "\n",
       "                                                Body  \n",
       "0  <p>I've written a database generation script i...  \n",
       "1  <p>Are there any really good tutorials explain...  \n",
       "2  <p>Has anyone got experience creating <strong>...  \n",
       "3  <p>This is something I've pseudo-solved many t...  \n",
       "4  <p>I have a little game written in C#. It uses...  "
      ]
     },
     "execution_count": 2,
     "metadata": {},
     "output_type": "execute_result"
    }
   ],
   "source": [
    "#Read the CSV files and display the top 5 rows of data\n",
    "que_t = pd.read_csv('C:/Users/Preetham/Desktop/word docks/Goals/Machine Learning/Datasets for Jupyter/question tags/Tags.csv')\n",
    "\n",
    "que = pd.read_csv('C:/Users/Preetham/Desktop/word docks/Goals/Machine Learning/Datasets for Jupyter/question tags/questions_s.csv', nrows= 500, encoding='latin-1')\n",
    "que.head(5)"
   ]
  },
  {
   "cell_type": "code",
   "execution_count": 3,
   "metadata": {},
   "outputs": [],
   "source": [
    "#Drop the unnecessary columns.\n",
    "que_c = que.drop(['CreationDate', 'ClosedDate','Score','Body','OwnerUserId'], axis=1)\n"
   ]
  },
  {
   "cell_type": "code",
   "execution_count": 4,
   "metadata": {},
   "outputs": [],
   "source": [
    "#Removing Spaces and Special Charecters in Title Column\n",
    "que_c['Title'] = que_c['Title'].map(lambda Title: re.sub(r'\\W+', ' ', Title))"
   ]
  },
  {
   "cell_type": "code",
   "execution_count": 5,
   "metadata": {},
   "outputs": [],
   "source": [
    "# Making all the charecters into lower case letters\n",
    "que_c['Title']= que_c['Title'].str.lower()"
   ]
  },
  {
   "cell_type": "code",
   "execution_count": 6,
   "metadata": {},
   "outputs": [],
   "source": [
    "#Now,merging the tags and title CSV using ID\n",
    "data = pd.merge(que_t, que_c,on='Id')"
   ]
  },
  {
   "cell_type": "code",
   "execution_count": 7,
   "metadata": {},
   "outputs": [],
   "source": [
    "data_c = data.drop(['Id'], axis=1)\n"
   ]
  },
  {
   "cell_type": "code",
   "execution_count": 8,
   "metadata": {},
   "outputs": [],
   "source": [
    "#checking for any NA values\n",
    "data_c = data_c[~data_c.Tag.isna()]"
   ]
  },
  {
   "cell_type": "code",
   "execution_count": 9,
   "metadata": {},
   "outputs": [],
   "source": [
    "# Assigning Variables.\n",
    "X = data_c['Title']\n",
    "y = data_c['Tag']"
   ]
  },
  {
   "cell_type": "code",
   "execution_count": 10,
   "metadata": {},
   "outputs": [
    {
     "name": "stdout",
     "output_type": "stream",
     "text": [
      "(1027,)\n",
      "(343,)\n",
      "(1027,)\n",
      "(343,)\n"
     ]
    }
   ],
   "source": [
    "#Split the data into test and train\n",
    "from sklearn.model_selection import train_test_split\n",
    "X_train, X_test, y_train, y_test = train_test_split(X, y, random_state=1)\n",
    "print(X_train.shape)\n",
    "print(X_test.shape)\n",
    "print(y_train.shape)\n",
    "print(y_test.shape)"
   ]
  },
  {
   "cell_type": "code",
   "execution_count": 12,
   "metadata": {},
   "outputs": [],
   "source": [
    "#Implementing Countvecctorizer to covert text into Vectors i.e., Sparse Matrix\n",
    "\n",
    "from sklearn.feature_extraction.text import CountVectorizer\n",
    "\n",
    "vect = CountVectorizer(stop_words='english',max_df=.3)"
   ]
  },
  {
   "cell_type": "code",
   "execution_count": 13,
   "metadata": {},
   "outputs": [],
   "source": [
    "X_train_dtm = vect.fit_transform(X_train)\n",
    "\n",
    "X_test_dtm = vect.transform(X_test)\n"
   ]
  },
  {
   "cell_type": "code",
   "execution_count": 14,
   "metadata": {},
   "outputs": [
    {
     "data": {
      "text/plain": [
       "MultinomialNB(alpha=1.0, class_prior=None, fit_prior=True)"
      ]
     },
     "execution_count": 14,
     "metadata": {},
     "output_type": "execute_result"
    }
   ],
   "source": [
    "#Importing Multinomial Naive Bayes Model for this Dataset\n",
    "from sklearn.naive_bayes import MultinomialNB\n",
    "nb = MultinomialNB()\n",
    "\n",
    "#Fitting the model into train data \n",
    "nb.fit(X_train_dtm, y_train)\n",
    "\n"
   ]
  },
  {
   "cell_type": "code",
   "execution_count": 15,
   "metadata": {},
   "outputs": [],
   "source": [
    "#Building the Machine leanring model on train and test data\n",
    "y_pred_class_test = nb.predict(X_test_dtm)\n",
    "y_pred_class_train = nb.predict(X_train_dtm)"
   ]
  },
  {
   "cell_type": "code",
   "execution_count": 16,
   "metadata": {},
   "outputs": [
    {
     "data": {
      "text/plain": [
       "array(['asp.net', 'c++', '.net', 'class-dbi', 'database', '.net',\n",
       "       'sql-server', 'c#', 'php', 'c', 'naming', 'sql-server', 'flex',\n",
       "       'windows', 'javascript', 'html', 'c++', '.net', '.net', 'sql',\n",
       "       '.net', 'unit-testing', 'asp.net', 'database', 'asp.net', 'php',\n",
       "       '.net', 'sql', '.net', 'branch', 'c#', 'c++', 'c', '.net', 'c',\n",
       "       'msbuild', 'asp.net', 'java', 'asp.net', 'c#', 'database', 'svn',\n",
       "       'version-control', '.net', '.net', '.net', '.net', 'tfs',\n",
       "       'dynamic-languages', '.net', 'plugins', 'database', '.net-2.0',\n",
       "       'unit-testing', 'javascript', 'c++', 'c#', 'graphics', '.net-2.0',\n",
       "       'networking', 'unit-testing', 'c#', 'database', 'asp.net',\n",
       "       'windows', 'networking', 'sql-server', 'sql', 'sql-server',\n",
       "       'javascript', 'asp.net', '.net', 'editor', 'c++', '.net', 'c',\n",
       "       'visual-studio', 'c', 'c++', 'com', 'networking', '.net',\n",
       "       'sql-server', '.net', '.net', 'sql-server', 'php',\n",
       "       'language-agnostic', 'sql-server', '.net', 'javascript', '.net',\n",
       "       '.net', 'c#', '.net', 'database', 'sql-server', 'db2-luw', '.net',\n",
       "       'sockets', 'testing', '.net', 'ruby', 'css', 'asp.net', 'osx',\n",
       "       '.net', 'html', '.net', '.net', 'version-control', 'sql-server',\n",
       "       'visual-studio', '.net', '.net', 'sql-server', 'asp.net',\n",
       "       'sql-server-2005', '.net', 'security', 'asp.net-mvc', '.net',\n",
       "       '.net', 'c#', 'dynamic-languages', '.net', 'c#', '.net',\n",
       "       'continuous-integration', '.net', 'sql-server', 'windows',\n",
       "       'windows', '.net', '.net', 'c', 'algorithm', 'xml', 'asp.net',\n",
       "       'regex', 'c#', 'c#', '.net', 'python', 'asp.net', 'c#',\n",
       "       'requirements', 'javascript', 'mysql', 'java', 'sql', 'c#', 'php',\n",
       "       'javascript', '.net', 'css', 'php', 'c#', 'winforms', '.net', 'c#',\n",
       "       '.net', 'asp.net', 'sql-server', '.net', '.net', 'ruby-on-rails',\n",
       "       'sql', '.net', '.net', 'architecture', 'django', 'string', 'php',\n",
       "       'continuous-integration', 'sql', 'java', 'sql-server', 'linq',\n",
       "       'naming', '.net', 'database', 'sql-server', 'audio', 'c',\n",
       "       'unit-testing', 'sql', 'osx', 'visual-studio', 'asp.net', 'osx',\n",
       "       'asp.net', '.net', 'language-agnostic', '.net', 'c#', 'database',\n",
       "       'sql', 'sql', 'asp.net', '.net', '.net', 'asp.net', 'c#',\n",
       "       'winforms', '.net', 'asp.net', 'sql-server', 'c#', 'c#', 'svn',\n",
       "       'c#', 'assembly', 'asp.net', '.net', 'c#', '.net', 'winforms',\n",
       "       'python', '.net', 'sql-server', 'sql', 'dom', 'sql-server',\n",
       "       'windows', 'database', 'java', 'asp.net', 'java', '.net', 'cvs',\n",
       "       'sql', '.net', 'sql-server', 'testing', 'version-control', 'c',\n",
       "       'php', 'osx', 'windows', 'c#', '.net', 'c++-cli', 'user-controls',\n",
       "       'asp.net', 'c#', 'sql-server', 'c#', 'java', 'c#', 'sql',\n",
       "       'performance', 'sql', '.net', '.net', 'sql-server', 'database',\n",
       "       '.net', '.net', 'osx', '.net', 'windows', 'sql-server',\n",
       "       'sql-server', 'windows', 'sql', 'c#', 'installation', 'windows',\n",
       "       '.net', '.net', 'c#', '.net', '.net', 'php', 'database', 'java',\n",
       "       'performance', 'jquery', 'asp.net', 'flex', 'sockets', 'database',\n",
       "       '.net', 'sql', 'ruby', 'branch', '.net', 'db2-luw', 'c#', 'c#',\n",
       "       '.net', '.net', '.net', 'javascript', 'java', '.net', 'c#', 'ruby',\n",
       "       '.net', '.net', 'asp.net', '.net', 'executable', 'asp.net',\n",
       "       'asp.net', 'sql-server', 'java', 'graphics', '.net', 'asp.net',\n",
       "       '2d', 'osx', 'java', 'mysql', 'sql', 'c#', '.net', 'unit-testing',\n",
       "       '.net', 'java', 'asp.net', 'sql', '.net', 'database', 'sql-server',\n",
       "       '.net', 'windows', 'database', 'java', 'asp.net', 'asp.net',\n",
       "       'winforms', '.net', 'storage', 'asp.net', 'java', '.net', '.net',\n",
       "       '.net', 'sql-server', 'sql', 'sql-server'], dtype='<U25')"
      ]
     },
     "execution_count": 16,
     "metadata": {},
     "output_type": "execute_result"
    }
   ],
   "source": [
    "#Predicting the test dataset\n",
    "nb.predict(X_test_dtm)"
   ]
  },
  {
   "cell_type": "markdown",
   "metadata": {},
   "source": [
    "For test data, the predicted question tags are shown above."
   ]
  },
  {
   "cell_type": "code",
   "execution_count": 18,
   "metadata": {},
   "outputs": [
    {
     "name": "stdout",
     "output_type": "stream",
     "text": [
      "0.04956268221574344\n",
      "0.3524829600778968\n"
     ]
    }
   ],
   "source": [
    "#Testing the Accuracy of the Model.\n",
    "from sklearn import metrics\n",
    "print(metrics.accuracy_score(y_test, y_pred_class_test))\n",
    "print(metrics.accuracy_score(y_train, y_pred_class_train))"
   ]
  },
  {
   "cell_type": "markdown",
   "metadata": {},
   "source": [
    "The accuracy is low due to less number of rows in the dataset. Having more data would help in acheiving high accuracy."
   ]
  },
  {
   "cell_type": "code",
   "execution_count": null,
   "metadata": {},
   "outputs": [],
   "source": []
  }
 ],
 "metadata": {
  "kernelspec": {
   "display_name": "Python 3",
   "language": "python",
   "name": "python3"
  },
  "language_info": {
   "codemirror_mode": {
    "name": "ipython",
    "version": 3
   },
   "file_extension": ".py",
   "mimetype": "text/x-python",
   "name": "python",
   "nbconvert_exporter": "python",
   "pygments_lexer": "ipython3",
   "version": "3.7.6"
  }
 },
 "nbformat": 4,
 "nbformat_minor": 4
}
