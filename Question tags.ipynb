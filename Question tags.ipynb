{
 "cells": [
  {
   "cell_type": "code",
   "execution_count": 1,
   "metadata": {},
   "outputs": [],
   "source": [
    "import pandas as pd\n",
    "import datetime\n",
    "import numpy as np\n",
    "import re\n",
    "from nltk.tokenize import word_tokenize\n",
    "from nltk.corpus import stopwords\n",
    "from nltk.stem.wordnet import WordNetLemmatizer\n",
    "from nltk.stem.porter import PorterStemmer\n"
   ]
  },
  {
   "cell_type": "code",
   "execution_count": 2,
   "metadata": {},
   "outputs": [],
   "source": [
    "que_t = pd.read_csv('C:/Users/Preetham/Desktop/question tags/Tags.csv')\n",
    "\n",
    "que = pd.read_csv('C:/Users/Preetham/Desktop/question tags/questions_s.csv', nrows= 500, encoding='latin-1')\n",
    "que.head(5)"
   ]
  },
  {
   "cell_type": "code",
   "execution_count": 4,
   "metadata": {},
   "outputs": [],
   "source": [
    "que_c = que.drop(['CreationDate', 'ClosedDate','Score','Body','OwnerUserId'], axis=1)\n"
   ]
  },
  {
   "cell_type": "code",
   "execution_count": 5,
   "metadata": {},
   "outputs": [],
   "source": [
    "que_c['Title'] = que_c['Title'].map(lambda Title: re.sub(r'\\W+', ' ', Title))"
   ]
  },
  {
   "cell_type": "code",
   "execution_count": 6,
   "metadata": {},
   "outputs": [],
   "source": [
    "que_c['Title']= que_c['Title'].str.lower()"
   ]
  },
  {
   "cell_type": "code",
   "execution_count": 7,
   "metadata": {},
   "outputs": [],
   "source": [
    "data = pd.merge(que_t, que_c,on='Id')"
   ]
  },
  {
   "cell_type": "code",
   "execution_count": 8,
   "metadata": {},
   "outputs": [],
   "source": [
    "data_c = data.drop(['Id'], axis=1)\n"
   ]
  },
  {
   "cell_type": "code",
   "execution_count": 9,
   "metadata": {},
   "outputs": [],
   "source": [
    "data_c = data_c[~data_c.Tag.isna()]"
   ]
  },
  {
   "cell_type": "code",
   "execution_count": 10,
   "metadata": {},
   "outputs": [],
   "source": [
    "X = data_c['Title']\n",
    "y = data_c['Tag']"
   ]
  },
  {
   "cell_type": "code",
   "execution_count": 11,
   "metadata": {},
   "outputs": [
    {
     "name": "stdout",
     "output_type": "stream",
     "text": [
      "(1027,)\n",
      "(343,)\n",
      "(1027,)\n",
      "(343,)\n"
     ]
    }
   ],
   "source": [
    "from sklearn.model_selection import train_test_split\n",
    "X_train, X_test, y_train, y_test = train_test_split(X, y, random_state=1)\n",
    "print(X_train.shape)\n",
    "print(X_test.shape)\n",
    "print(y_train.shape)\n",
    "print(y_test.shape)"
   ]
  },
  {
   "cell_type": "code",
   "execution_count": 12,
   "metadata": {},
   "outputs": [],
   "source": [
    "from sklearn.feature_extraction.text import CountVectorizer\n",
    "from sklearn.feature_extraction.text import TfidfVectorizer\n",
    "\n",
    "vect = CountVectorizer(stop_words='english',max_df=.3)"
   ]
  },
  {
   "cell_type": "code",
   "execution_count": 13,
   "metadata": {},
   "outputs": [],
   "source": [
    "X_train_dtm = vect.fit_transform(X_train)\n",
    "\n",
    "X_test_dtm = vect.transform(X_test)\n"
   ]
  },
  {
   "cell_type": "code",
   "execution_count": 14,
   "metadata": {},
   "outputs": [
    {
     "data": {
      "text/plain": [
       "MultinomialNB(alpha=1.0, class_prior=None, fit_prior=True)"
      ]
     },
     "execution_count": 14,
     "metadata": {},
     "output_type": "execute_result"
    }
   ],
   "source": [
    "from sklearn.naive_bayes import MultinomialNB\n",
    "nb = MultinomialNB()\n",
    "\n",
    "#fitting the model into train data \n",
    "nb.fit(X_train_dtm, y_train)\n",
    "\n"
   ]
  },
  {
   "cell_type": "code",
   "execution_count": 15,
   "metadata": {},
   "outputs": [],
   "source": [
    "#predicting the model on train and test data\n",
    "y_pred_class_test = nb.predict(X_test_dtm)\n",
    "y_pred_class_train = nb.predict(X_train_dtm)"
   ]
  },
  {
   "cell_type": "code",
   "execution_count": 16,
   "metadata": {},
   "outputs": [
    {
     "data": {
      "text/plain": [
       "array(['asp.net', 'c++', '.net', 'class-dbi', 'database', '.net',\n",
       "       'sql-server', 'c#', 'php', 'c', 'naming', 'sql-server', 'flex',\n",
       "       'windows', 'javascript', 'html', 'c++', '.net', '.net', 'sql',\n",
       "       '.net', 'unit-testing', 'asp.net', 'database', 'asp.net', 'php',\n",
       "       '.net', 'sql', '.net', 'branch', 'c#', 'c++', 'c', '.net', 'c',\n",
       "       'msbuild', 'asp.net', 'java', 'asp.net', 'c#', 'database', 'svn',\n",
       "       'version-control', '.net', '.net', '.net', '.net', 'tfs',\n",
       "       'dynamic-languages', '.net', 'plugins', 'database', '.net-2.0',\n",
       "       'unit-testing', 'javascript', 'c++', 'c#', 'graphics', '.net-2.0',\n",
       "       'networking', 'unit-testing', 'c#', 'database', 'asp.net',\n",
       "       'windows', 'networking', 'sql-server', 'sql', 'sql-server',\n",
       "       'javascript', 'asp.net', '.net', 'editor', 'c++', '.net', 'c',\n",
       "       'visual-studio', 'c', 'c++', 'com', 'networking', '.net',\n",
       "       'sql-server', '.net', '.net', 'sql-server', 'php',\n",
       "       'language-agnostic', 'sql-server', '.net', 'javascript', '.net',\n",
       "       '.net', 'c#', '.net', 'database', 'sql-server', 'db2-luw', '.net',\n",
       "       'sockets', 'testing', '.net', 'ruby', 'css', 'asp.net', 'osx',\n",
       "       '.net', 'html', '.net', '.net', 'version-control', 'sql-server',\n",
       "       'visual-studio', '.net', '.net', 'sql-server', 'asp.net',\n",
       "       'sql-server-2005', '.net', 'security', 'asp.net-mvc', '.net',\n",
       "       '.net', 'c#', 'dynamic-languages', '.net', 'c#', '.net',\n",
       "       'continuous-integration', '.net', 'sql-server', 'windows',\n",
       "       'windows', '.net', '.net', 'c', 'algorithm', 'xml', 'asp.net',\n",
       "       'regex', 'c#', 'c#', '.net', 'python', 'asp.net', 'c#',\n",
       "       'requirements', 'javascript', 'mysql', 'java', 'sql', 'c#', 'php',\n",
       "       'javascript', '.net', 'css', 'php', 'c#', 'winforms', '.net', 'c#',\n",
       "       '.net', 'asp.net', 'sql-server', '.net', '.net', 'ruby-on-rails',\n",
       "       'sql', '.net', '.net', 'architecture', 'django', 'string', 'php',\n",
       "       'continuous-integration', 'sql', 'java', 'sql-server', 'linq',\n",
       "       'naming', '.net', 'database', 'sql-server', 'audio', 'c',\n",
       "       'unit-testing', 'sql', 'osx', 'visual-studio', 'asp.net', 'osx',\n",
       "       'asp.net', '.net', 'language-agnostic', '.net', 'c#', 'database',\n",
       "       'sql', 'sql', 'asp.net', '.net', '.net', 'asp.net', 'c#',\n",
       "       'winforms', '.net', 'asp.net', 'sql-server', 'c#', 'c#', 'svn',\n",
       "       'c#', 'assembly', 'asp.net', '.net', 'c#', '.net', 'winforms',\n",
       "       'python', '.net', 'sql-server', 'sql', 'dom', 'sql-server',\n",
       "       'windows', 'database', 'java', 'asp.net', 'java', '.net', 'cvs',\n",
       "       'sql', '.net', 'sql-server', 'testing', 'version-control', 'c',\n",
       "       'php', 'osx', 'windows', 'c#', '.net', 'c++-cli', 'user-controls',\n",
       "       'asp.net', 'c#', 'sql-server', 'c#', 'java', 'c#', 'sql',\n",
       "       'performance', 'sql', '.net', '.net', 'sql-server', 'database',\n",
       "       '.net', '.net', 'osx', '.net', 'windows', 'sql-server',\n",
       "       'sql-server', 'windows', 'sql', 'c#', 'installation', 'windows',\n",
       "       '.net', '.net', 'c#', '.net', '.net', 'php', 'database', 'java',\n",
       "       'performance', 'jquery', 'asp.net', 'flex', 'sockets', 'database',\n",
       "       '.net', 'sql', 'ruby', 'branch', '.net', 'db2-luw', 'c#', 'c#',\n",
       "       '.net', '.net', '.net', 'javascript', 'java', '.net', 'c#', 'ruby',\n",
       "       '.net', '.net', 'asp.net', '.net', 'executable', 'asp.net',\n",
       "       'asp.net', 'sql-server', 'java', 'graphics', '.net', 'asp.net',\n",
       "       '2d', 'osx', 'java', 'mysql', 'sql', 'c#', '.net', 'unit-testing',\n",
       "       '.net', 'java', 'asp.net', 'sql', '.net', 'database', 'sql-server',\n",
       "       '.net', 'windows', 'database', 'java', 'asp.net', 'asp.net',\n",
       "       'winforms', '.net', 'storage', 'asp.net', 'java', '.net', '.net',\n",
       "       '.net', 'sql-server', 'sql', 'sql-server'], dtype='<U25')"
      ]
     },
     "execution_count": 16,
     "metadata": {},
     "output_type": "execute_result"
    }
   ],
   "source": [
    "nb.predict(X_test_dtm)"
   ]
  },
  {
   "cell_type": "code",
   "execution_count": 17,
   "metadata": {},
   "outputs": [
    {
     "name": "stdout",
     "output_type": "stream",
     "text": [
      "0.04956268221574344\n",
      "0.3524829600778968\n"
     ]
    }
   ],
   "source": [
    "from sklearn import metrics\n",
    "print(metrics.accuracy_score(y_test, y_pred_class_test))\n",
    "print(metrics.accuracy_score(y_train, y_pred_class_train))"
   ]
  },
  {
   "cell_type": "code",
   "execution_count": null,
   "metadata": {},
   "outputs": [],
   "source": []
  },
  {
   "cell_type": "code",
   "execution_count": null,
   "metadata": {},
   "outputs": [],
   "source": []
  }
 ],
 "metadata": {
  "kernelspec": {
   "display_name": "Python 3",
   "language": "python",
   "name": "python3"
  },
  "language_info": {
   "codemirror_mode": {
    "name": "ipython",
    "version": 3
   },
   "file_extension": ".py",
   "mimetype": "text/x-python",
   "name": "python",
   "nbconvert_exporter": "python",
   "pygments_lexer": "ipython3",
   "version": "3.7.6"
  }
 },
 "nbformat": 4,
 "nbformat_minor": 4
}
